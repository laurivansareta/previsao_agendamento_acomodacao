{
 "cells": [
  {
   "cell_type": "markdown",
   "metadata": {},
   "source": [
    "# Entendimento do Problema"
   ]
  },
  {
   "cell_type": "markdown",
   "metadata": {},
   "source": [
    "Objetivo do Problema:\n",
    "- 1.0. Previsao do primeiro destino que um novo usuário irá escolher.\n",
    "    - Porque?\n",
    "    - Qual tipo de modelo de negócio do Airbnb?\n",
    "        - Marketplace (Conectar pessoas que oferecem acomodacao, com pessoas que estao procurando acomodacao)\n",
    "        - Oferta (pessoas oferecendo acomodacao)\n",
    "            - Tamanho do portfólio.\n",
    "            - Diversidade/Densidade de Portfólio.\n",
    "            - Preco Medio\n",
    "            \n",
    "        - Demanda (pessoas procurando acomodacao)\n",
    "            - Numero de Usuários\n",
    "            - LTV (Lifetime Value)\n",
    "            - CAC (Client Acquisition Cost)\n",
    "            \n",
    "            \n",
    "           Gross Revenue = (Fee*Numero cliente) - CAC \n",
    "\n",
    "- Proposta da Solucao\n",
    "- Modelo de Predivao do primeiro destino de um novo usario.\n",
    "- 1.0. Predicoes e salva em tabela do banco de dados. \n",
    "- 2.0. API \n",
    "    - Input: usuario e suas caracteristicas\n",
    "    - Output: usuario e suas caracteristicas com a **predicao do destino**"
   ]
  },
  {
   "cell_type": "markdown",
   "metadata": {},
   "source": [
    "# 0.0 Imports"
   ]
  },
  {
   "cell_type": "code",
   "execution_count": 3,
   "metadata": {},
   "outputs": [],
   "source": [
    "import pandas as pd\n",
    "import random\n",
    "from sklearn import model_selection as ms\n",
    "from sklearn import preprocessing   as pp\n",
    "from sklearn import metrics         as m\n",
    "from scikitplot import metrics      as mt\n",
    "\n",
    "from keras import models as ml\n",
    "from keras import layers as l"
   ]
  },
  {
   "cell_type": "markdown",
   "metadata": {},
   "source": [
    "##  0.1. Helper Functions"
   ]
  },
  {
   "cell_type": "markdown",
   "metadata": {},
   "source": [
    "##  0.2. Carregando dados"
   ]
  },
  {
   "cell_type": "code",
   "execution_count": 4,
   "metadata": {},
   "outputs": [],
   "source": [
    "df_raw = pd.read_csv('../dados/train_users_2.csv', low_memory=True)"
   ]
  },
  {
   "cell_type": "markdown",
   "metadata": {},
   "source": [
    "# 1.0. Descrição dos Dados"
   ]
  },
  {
   "cell_type": "code",
   "execution_count": 5,
   "metadata": {},
   "outputs": [
    {
     "name": "stdout",
     "output_type": "stream",
     "text": [
      "Número de Linhas: 213451\n",
      "Número de Colunas: 16\n"
     ]
    }
   ],
   "source": [
    "df1 = df_raw.copy()\n",
    "\n",
    "print('Número de Linhas: {}'.format(df1.shape[0]))\n",
    "print('Número de Colunas: {}'.format(df1.shape[1]))"
   ]
  },
  {
   "cell_type": "markdown",
   "metadata": {},
   "source": [
    "##  1.1. Tipo Dados"
   ]
  },
  {
   "cell_type": "code",
   "execution_count": 6,
   "metadata": {},
   "outputs": [
    {
     "data": {
      "text/plain": [
       "id                          object\n",
       "date_account_created        object\n",
       "timestamp_first_active       int64\n",
       "date_first_booking          object\n",
       "gender                      object\n",
       "age                        float64\n",
       "signup_method               object\n",
       "signup_flow                  int64\n",
       "language                    object\n",
       "affiliate_channel           object\n",
       "affiliate_provider          object\n",
       "first_affiliate_tracked     object\n",
       "signup_app                  object\n",
       "first_device_type           object\n",
       "first_browser               object\n",
       "country_destination         object\n",
       "dtype: object"
      ]
     },
     "execution_count": 6,
     "metadata": {},
     "output_type": "execute_result"
    }
   ],
   "source": [
    "df1.dtypes"
   ]
  },
  {
   "cell_type": "markdown",
   "metadata": {},
   "source": [
    "## 1.2. Check NA"
   ]
  },
  {
   "cell_type": "code",
   "execution_count": 7,
   "metadata": {},
   "outputs": [
    {
     "data": {
      "text/plain": [
       "id                              0\n",
       "date_account_created            0\n",
       "timestamp_first_active          0\n",
       "date_first_booking         124543\n",
       "gender                          0\n",
       "age                         87990\n",
       "signup_method                   0\n",
       "signup_flow                     0\n",
       "language                        0\n",
       "affiliate_channel               0\n",
       "affiliate_provider              0\n",
       "first_affiliate_tracked      6065\n",
       "signup_app                      0\n",
       "first_device_type               0\n",
       "first_browser                   0\n",
       "country_destination             0\n",
       "dtype: int64"
      ]
     },
     "execution_count": 7,
     "metadata": {},
     "output_type": "execute_result"
    }
   ],
   "source": [
    "df1.isna().sum()"
   ]
  },
  {
   "cell_type": "code",
   "execution_count": 8,
   "metadata": {},
   "outputs": [
    {
     "data": {
      "text/plain": [
       "(68171, 16)"
      ]
     },
     "execution_count": 8,
     "metadata": {},
     "output_type": "execute_result"
    }
   ],
   "source": [
    "# Neste primeiro ciclo vou remover os NA e nos proximos voltarei para tratar\n",
    "df1 = df1.dropna()\n",
    "df1.shape"
   ]
  },
  {
   "cell_type": "markdown",
   "metadata": {},
   "source": [
    "## 1.3. Mudando dTyepes"
   ]
  },
  {
   "cell_type": "code",
   "execution_count": 9,
   "metadata": {},
   "outputs": [
    {
     "data": {
      "text/plain": [
       "id                          object\n",
       "date_account_created        object\n",
       "timestamp_first_active       int64\n",
       "date_first_booking          object\n",
       "gender                      object\n",
       "age                        float64\n",
       "signup_method               object\n",
       "signup_flow                  int64\n",
       "language                    object\n",
       "affiliate_channel           object\n",
       "affiliate_provider          object\n",
       "first_affiliate_tracked     object\n",
       "signup_app                  object\n",
       "first_device_type           object\n",
       "first_browser               object\n",
       "country_destination         object\n",
       "dtype: object"
      ]
     },
     "execution_count": 9,
     "metadata": {},
     "output_type": "execute_result"
    }
   ],
   "source": [
    "df1.dtypes"
   ]
  },
  {
   "cell_type": "code",
   "execution_count": 10,
   "metadata": {},
   "outputs": [],
   "source": [
    " # date_account_created\n",
    "df1['date_account_created'] = pd.to_datetime(df1['date_account_created'])\n",
    "\n",
    "# timestamp_first_active\n",
    "df1['timestamp_first_active'] = pd.to_datetime(df1['timestamp_first_active'], format='%Y%m%d%H%M%S')\n",
    "\n",
    "# date_first_booking\n",
    "df1['date_first_booking'] = pd.to_datetime(df1['date_first_booking'])\n",
    "\n",
    "# age\n",
    "df1['age'] = df1['age'].astype(int)"
   ]
  },
  {
   "cell_type": "markdown",
   "metadata": {},
   "source": [
    "## 1.4. Valida Balanceamento"
   ]
  },
  {
   "cell_type": "code",
   "execution_count": 11,
   "metadata": {},
   "outputs": [
    {
     "data": {
      "text/plain": [
       "US       70.886447\n",
       "other    11.085359\n",
       "FR        5.408458\n",
       "IT        2.976339\n",
       "GB        2.593478\n",
       "ES        2.486395\n",
       "CA        1.569582\n",
       "DE        1.245398\n",
       "NL        0.880140\n",
       "AU        0.636634\n",
       "PT        0.231770\n",
       "Name: country_destination, dtype: float64"
      ]
     },
     "execution_count": 11,
     "metadata": {},
     "output_type": "execute_result"
    }
   ],
   "source": [
    "df1['country_destination'].value_counts(normalize=True) * 100"
   ]
  },
  {
   "cell_type": "markdown",
   "metadata": {},
   "source": [
    "# 2.0. Filtragem Dados"
   ]
  },
  {
   "cell_type": "code",
   "execution_count": 12,
   "metadata": {},
   "outputs": [],
   "source": [
    "df2 = df1.copy()"
   ]
  },
  {
   "cell_type": "markdown",
   "metadata": {},
   "source": [
    "## 2.1. Filtragem Linhas"
   ]
  },
  {
   "cell_type": "code",
   "execution_count": null,
   "metadata": {},
   "outputs": [],
   "source": []
  },
  {
   "cell_type": "markdown",
   "metadata": {},
   "source": [
    "## 2.2. Seleção Colunas"
   ]
  },
  {
   "cell_type": "code",
   "execution_count": null,
   "metadata": {},
   "outputs": [],
   "source": []
  },
  {
   "cell_type": "markdown",
   "metadata": {},
   "source": [
    "# 3.0. Preparação Dados"
   ]
  },
  {
   "cell_type": "code",
   "execution_count": 13,
   "metadata": {},
   "outputs": [
    {
     "data": {
      "text/html": [
       "<div>\n",
       "<style scoped>\n",
       "    .dataframe tbody tr th:only-of-type {\n",
       "        vertical-align: middle;\n",
       "    }\n",
       "\n",
       "    .dataframe tbody tr th {\n",
       "        vertical-align: top;\n",
       "    }\n",
       "\n",
       "    .dataframe thead th {\n",
       "        text-align: right;\n",
       "    }\n",
       "</style>\n",
       "<table border=\"1\" class=\"dataframe\">\n",
       "  <thead>\n",
       "    <tr style=\"text-align: right;\">\n",
       "      <th></th>\n",
       "      <th>id</th>\n",
       "      <th>date_account_created</th>\n",
       "      <th>timestamp_first_active</th>\n",
       "      <th>date_first_booking</th>\n",
       "      <th>gender</th>\n",
       "      <th>age</th>\n",
       "      <th>signup_method</th>\n",
       "      <th>signup_flow</th>\n",
       "      <th>language</th>\n",
       "      <th>affiliate_channel</th>\n",
       "      <th>affiliate_provider</th>\n",
       "      <th>first_affiliate_tracked</th>\n",
       "      <th>signup_app</th>\n",
       "      <th>first_device_type</th>\n",
       "      <th>first_browser</th>\n",
       "      <th>country_destination</th>\n",
       "    </tr>\n",
       "  </thead>\n",
       "  <tbody>\n",
       "    <tr>\n",
       "      <th>2</th>\n",
       "      <td>4ft3gnwmtx</td>\n",
       "      <td>2010-09-28</td>\n",
       "      <td>2009-06-09 23:12:47</td>\n",
       "      <td>2010-08-02</td>\n",
       "      <td>FEMALE</td>\n",
       "      <td>56</td>\n",
       "      <td>basic</td>\n",
       "      <td>3</td>\n",
       "      <td>en</td>\n",
       "      <td>direct</td>\n",
       "      <td>direct</td>\n",
       "      <td>untracked</td>\n",
       "      <td>Web</td>\n",
       "      <td>Windows Desktop</td>\n",
       "      <td>IE</td>\n",
       "      <td>US</td>\n",
       "    </tr>\n",
       "    <tr>\n",
       "      <th>3</th>\n",
       "      <td>bjjt8pjhuk</td>\n",
       "      <td>2011-12-05</td>\n",
       "      <td>2009-10-31 06:01:29</td>\n",
       "      <td>2012-09-08</td>\n",
       "      <td>FEMALE</td>\n",
       "      <td>42</td>\n",
       "      <td>facebook</td>\n",
       "      <td>0</td>\n",
       "      <td>en</td>\n",
       "      <td>direct</td>\n",
       "      <td>direct</td>\n",
       "      <td>untracked</td>\n",
       "      <td>Web</td>\n",
       "      <td>Mac Desktop</td>\n",
       "      <td>Firefox</td>\n",
       "      <td>other</td>\n",
       "    </tr>\n",
       "    <tr>\n",
       "      <th>4</th>\n",
       "      <td>87mebub9p4</td>\n",
       "      <td>2010-09-14</td>\n",
       "      <td>2009-12-08 06:11:05</td>\n",
       "      <td>2010-02-18</td>\n",
       "      <td>-unknown-</td>\n",
       "      <td>41</td>\n",
       "      <td>basic</td>\n",
       "      <td>0</td>\n",
       "      <td>en</td>\n",
       "      <td>direct</td>\n",
       "      <td>direct</td>\n",
       "      <td>untracked</td>\n",
       "      <td>Web</td>\n",
       "      <td>Mac Desktop</td>\n",
       "      <td>Chrome</td>\n",
       "      <td>US</td>\n",
       "    </tr>\n",
       "    <tr>\n",
       "      <th>6</th>\n",
       "      <td>lsw9q7uk0j</td>\n",
       "      <td>2010-01-02</td>\n",
       "      <td>2010-01-02 01:25:58</td>\n",
       "      <td>2010-01-05</td>\n",
       "      <td>FEMALE</td>\n",
       "      <td>46</td>\n",
       "      <td>basic</td>\n",
       "      <td>0</td>\n",
       "      <td>en</td>\n",
       "      <td>other</td>\n",
       "      <td>craigslist</td>\n",
       "      <td>untracked</td>\n",
       "      <td>Web</td>\n",
       "      <td>Mac Desktop</td>\n",
       "      <td>Safari</td>\n",
       "      <td>US</td>\n",
       "    </tr>\n",
       "    <tr>\n",
       "      <th>7</th>\n",
       "      <td>0d01nltbrs</td>\n",
       "      <td>2010-01-03</td>\n",
       "      <td>2010-01-03 19:19:05</td>\n",
       "      <td>2010-01-13</td>\n",
       "      <td>FEMALE</td>\n",
       "      <td>47</td>\n",
       "      <td>basic</td>\n",
       "      <td>0</td>\n",
       "      <td>en</td>\n",
       "      <td>direct</td>\n",
       "      <td>direct</td>\n",
       "      <td>omg</td>\n",
       "      <td>Web</td>\n",
       "      <td>Mac Desktop</td>\n",
       "      <td>Safari</td>\n",
       "      <td>US</td>\n",
       "    </tr>\n",
       "  </tbody>\n",
       "</table>\n",
       "</div>"
      ],
      "text/plain": [
       "           id date_account_created timestamp_first_active date_first_booking  \\\n",
       "2  4ft3gnwmtx           2010-09-28    2009-06-09 23:12:47         2010-08-02   \n",
       "3  bjjt8pjhuk           2011-12-05    2009-10-31 06:01:29         2012-09-08   \n",
       "4  87mebub9p4           2010-09-14    2009-12-08 06:11:05         2010-02-18   \n",
       "6  lsw9q7uk0j           2010-01-02    2010-01-02 01:25:58         2010-01-05   \n",
       "7  0d01nltbrs           2010-01-03    2010-01-03 19:19:05         2010-01-13   \n",
       "\n",
       "      gender  age signup_method  signup_flow language affiliate_channel  \\\n",
       "2     FEMALE   56         basic            3       en            direct   \n",
       "3     FEMALE   42      facebook            0       en            direct   \n",
       "4  -unknown-   41         basic            0       en            direct   \n",
       "6     FEMALE   46         basic            0       en             other   \n",
       "7     FEMALE   47         basic            0       en            direct   \n",
       "\n",
       "  affiliate_provider first_affiliate_tracked signup_app first_device_type  \\\n",
       "2             direct               untracked        Web   Windows Desktop   \n",
       "3             direct               untracked        Web       Mac Desktop   \n",
       "4             direct               untracked        Web       Mac Desktop   \n",
       "6         craigslist               untracked        Web       Mac Desktop   \n",
       "7             direct                     omg        Web       Mac Desktop   \n",
       "\n",
       "  first_browser country_destination  \n",
       "2            IE                  US  \n",
       "3       Firefox               other  \n",
       "4        Chrome                  US  \n",
       "6        Safari                  US  \n",
       "7        Safari                  US  "
      ]
     },
     "execution_count": 13,
     "metadata": {},
     "output_type": "execute_result"
    }
   ],
   "source": [
    "df3 = df2.copy()\n",
    "df3.head()"
   ]
  },
  {
   "cell_type": "code",
   "execution_count": 14,
   "metadata": {},
   "outputs": [
    {
     "data": {
      "text/html": [
       "<div>\n",
       "<style scoped>\n",
       "    .dataframe tbody tr th:only-of-type {\n",
       "        vertical-align: middle;\n",
       "    }\n",
       "\n",
       "    .dataframe tbody tr th {\n",
       "        vertical-align: top;\n",
       "    }\n",
       "\n",
       "    .dataframe thead th {\n",
       "        text-align: right;\n",
       "    }\n",
       "</style>\n",
       "<table border=\"1\" class=\"dataframe\">\n",
       "  <thead>\n",
       "    <tr style=\"text-align: right;\">\n",
       "      <th></th>\n",
       "      <th>date_account_created</th>\n",
       "      <th>timestamp_first_active</th>\n",
       "      <th>date_first_booking</th>\n",
       "      <th>age</th>\n",
       "      <th>signup_flow</th>\n",
       "      <th>gender_-unknown-</th>\n",
       "      <th>gender_FEMALE</th>\n",
       "      <th>gender_MALE</th>\n",
       "      <th>gender_OTHER</th>\n",
       "      <th>signup_method_basic</th>\n",
       "      <th>...</th>\n",
       "      <th>first_browser_Safari</th>\n",
       "      <th>first_browser_SeaMonkey</th>\n",
       "      <th>first_browser_Silk</th>\n",
       "      <th>first_browser_SiteKiosk</th>\n",
       "      <th>first_browser_SlimBrowser</th>\n",
       "      <th>first_browser_Sogou Explorer</th>\n",
       "      <th>first_browser_Stainless</th>\n",
       "      <th>first_browser_TenFourFox</th>\n",
       "      <th>first_browser_TheWorld Browser</th>\n",
       "      <th>first_browser_Yandex.Browser</th>\n",
       "    </tr>\n",
       "  </thead>\n",
       "  <tbody>\n",
       "    <tr>\n",
       "      <th>2</th>\n",
       "      <td>2010-09-28</td>\n",
       "      <td>2009-06-09 23:12:47</td>\n",
       "      <td>2010-08-02</td>\n",
       "      <td>56</td>\n",
       "      <td>3</td>\n",
       "      <td>0</td>\n",
       "      <td>1</td>\n",
       "      <td>0</td>\n",
       "      <td>0</td>\n",
       "      <td>1</td>\n",
       "      <td>...</td>\n",
       "      <td>0</td>\n",
       "      <td>0</td>\n",
       "      <td>0</td>\n",
       "      <td>0</td>\n",
       "      <td>0</td>\n",
       "      <td>0</td>\n",
       "      <td>0</td>\n",
       "      <td>0</td>\n",
       "      <td>0</td>\n",
       "      <td>0</td>\n",
       "    </tr>\n",
       "    <tr>\n",
       "      <th>3</th>\n",
       "      <td>2011-12-05</td>\n",
       "      <td>2009-10-31 06:01:29</td>\n",
       "      <td>2012-09-08</td>\n",
       "      <td>42</td>\n",
       "      <td>0</td>\n",
       "      <td>0</td>\n",
       "      <td>1</td>\n",
       "      <td>0</td>\n",
       "      <td>0</td>\n",
       "      <td>0</td>\n",
       "      <td>...</td>\n",
       "      <td>0</td>\n",
       "      <td>0</td>\n",
       "      <td>0</td>\n",
       "      <td>0</td>\n",
       "      <td>0</td>\n",
       "      <td>0</td>\n",
       "      <td>0</td>\n",
       "      <td>0</td>\n",
       "      <td>0</td>\n",
       "      <td>0</td>\n",
       "    </tr>\n",
       "    <tr>\n",
       "      <th>4</th>\n",
       "      <td>2010-09-14</td>\n",
       "      <td>2009-12-08 06:11:05</td>\n",
       "      <td>2010-02-18</td>\n",
       "      <td>41</td>\n",
       "      <td>0</td>\n",
       "      <td>1</td>\n",
       "      <td>0</td>\n",
       "      <td>0</td>\n",
       "      <td>0</td>\n",
       "      <td>1</td>\n",
       "      <td>...</td>\n",
       "      <td>0</td>\n",
       "      <td>0</td>\n",
       "      <td>0</td>\n",
       "      <td>0</td>\n",
       "      <td>0</td>\n",
       "      <td>0</td>\n",
       "      <td>0</td>\n",
       "      <td>0</td>\n",
       "      <td>0</td>\n",
       "      <td>0</td>\n",
       "    </tr>\n",
       "    <tr>\n",
       "      <th>6</th>\n",
       "      <td>2010-01-02</td>\n",
       "      <td>2010-01-02 01:25:58</td>\n",
       "      <td>2010-01-05</td>\n",
       "      <td>46</td>\n",
       "      <td>0</td>\n",
       "      <td>0</td>\n",
       "      <td>1</td>\n",
       "      <td>0</td>\n",
       "      <td>0</td>\n",
       "      <td>1</td>\n",
       "      <td>...</td>\n",
       "      <td>1</td>\n",
       "      <td>0</td>\n",
       "      <td>0</td>\n",
       "      <td>0</td>\n",
       "      <td>0</td>\n",
       "      <td>0</td>\n",
       "      <td>0</td>\n",
       "      <td>0</td>\n",
       "      <td>0</td>\n",
       "      <td>0</td>\n",
       "    </tr>\n",
       "    <tr>\n",
       "      <th>7</th>\n",
       "      <td>2010-01-03</td>\n",
       "      <td>2010-01-03 19:19:05</td>\n",
       "      <td>2010-01-13</td>\n",
       "      <td>47</td>\n",
       "      <td>0</td>\n",
       "      <td>0</td>\n",
       "      <td>1</td>\n",
       "      <td>0</td>\n",
       "      <td>0</td>\n",
       "      <td>1</td>\n",
       "      <td>...</td>\n",
       "      <td>1</td>\n",
       "      <td>0</td>\n",
       "      <td>0</td>\n",
       "      <td>0</td>\n",
       "      <td>0</td>\n",
       "      <td>0</td>\n",
       "      <td>0</td>\n",
       "      <td>0</td>\n",
       "      <td>0</td>\n",
       "      <td>0</td>\n",
       "    </tr>\n",
       "  </tbody>\n",
       "</table>\n",
       "<p>5 rows × 115 columns</p>\n",
       "</div>"
      ],
      "text/plain": [
       "  date_account_created timestamp_first_active date_first_booking  age  \\\n",
       "2           2010-09-28    2009-06-09 23:12:47         2010-08-02   56   \n",
       "3           2011-12-05    2009-10-31 06:01:29         2012-09-08   42   \n",
       "4           2010-09-14    2009-12-08 06:11:05         2010-02-18   41   \n",
       "6           2010-01-02    2010-01-02 01:25:58         2010-01-05   46   \n",
       "7           2010-01-03    2010-01-03 19:19:05         2010-01-13   47   \n",
       "\n",
       "   signup_flow  gender_-unknown-  gender_FEMALE  gender_MALE  gender_OTHER  \\\n",
       "2            3                 0              1            0             0   \n",
       "3            0                 0              1            0             0   \n",
       "4            0                 1              0            0             0   \n",
       "6            0                 0              1            0             0   \n",
       "7            0                 0              1            0             0   \n",
       "\n",
       "   signup_method_basic  ...  first_browser_Safari  first_browser_SeaMonkey  \\\n",
       "2                    1  ...                     0                        0   \n",
       "3                    0  ...                     0                        0   \n",
       "4                    1  ...                     0                        0   \n",
       "6                    1  ...                     1                        0   \n",
       "7                    1  ...                     1                        0   \n",
       "\n",
       "   first_browser_Silk  first_browser_SiteKiosk  first_browser_SlimBrowser  \\\n",
       "2                   0                        0                          0   \n",
       "3                   0                        0                          0   \n",
       "4                   0                        0                          0   \n",
       "6                   0                        0                          0   \n",
       "7                   0                        0                          0   \n",
       "\n",
       "   first_browser_Sogou Explorer  first_browser_Stainless  \\\n",
       "2                             0                        0   \n",
       "3                             0                        0   \n",
       "4                             0                        0   \n",
       "6                             0                        0   \n",
       "7                             0                        0   \n",
       "\n",
       "   first_browser_TenFourFox  first_browser_TheWorld Browser  \\\n",
       "2                         0                               0   \n",
       "3                         0                               0   \n",
       "4                         0                               0   \n",
       "6                         0                               0   \n",
       "7                         0                               0   \n",
       "\n",
       "   first_browser_Yandex.Browser  \n",
       "2                             0  \n",
       "3                             0  \n",
       "4                             0  \n",
       "6                             0  \n",
       "7                             0  \n",
       "\n",
       "[5 rows x 115 columns]"
      ]
     },
     "execution_count": 14,
     "metadata": {},
     "output_type": "execute_result"
    }
   ],
   "source": [
    "df3_dummy = pd.get_dummies(df3.drop(['id', 'country_destination'], axis=1))\n",
    "df3_dummy.head()"
   ]
  },
  {
   "cell_type": "code",
   "execution_count": 15,
   "metadata": {},
   "outputs": [
    {
     "data": {
      "text/html": [
       "<div>\n",
       "<style scoped>\n",
       "    .dataframe tbody tr th:only-of-type {\n",
       "        vertical-align: middle;\n",
       "    }\n",
       "\n",
       "    .dataframe tbody tr th {\n",
       "        vertical-align: top;\n",
       "    }\n",
       "\n",
       "    .dataframe thead th {\n",
       "        text-align: right;\n",
       "    }\n",
       "</style>\n",
       "<table border=\"1\" class=\"dataframe\">\n",
       "  <thead>\n",
       "    <tr style=\"text-align: right;\">\n",
       "      <th></th>\n",
       "      <th>id</th>\n",
       "      <th>country_destination</th>\n",
       "      <th>date_account_created</th>\n",
       "      <th>timestamp_first_active</th>\n",
       "      <th>date_first_booking</th>\n",
       "      <th>age</th>\n",
       "      <th>signup_flow</th>\n",
       "      <th>gender_-unknown-</th>\n",
       "      <th>gender_FEMALE</th>\n",
       "      <th>gender_MALE</th>\n",
       "      <th>...</th>\n",
       "      <th>first_browser_Safari</th>\n",
       "      <th>first_browser_SeaMonkey</th>\n",
       "      <th>first_browser_Silk</th>\n",
       "      <th>first_browser_SiteKiosk</th>\n",
       "      <th>first_browser_SlimBrowser</th>\n",
       "      <th>first_browser_Sogou Explorer</th>\n",
       "      <th>first_browser_Stainless</th>\n",
       "      <th>first_browser_TenFourFox</th>\n",
       "      <th>first_browser_TheWorld Browser</th>\n",
       "      <th>first_browser_Yandex.Browser</th>\n",
       "    </tr>\n",
       "  </thead>\n",
       "  <tbody>\n",
       "    <tr>\n",
       "      <th>2</th>\n",
       "      <td>4ft3gnwmtx</td>\n",
       "      <td>US</td>\n",
       "      <td>2010-09-28</td>\n",
       "      <td>2009-06-09 23:12:47</td>\n",
       "      <td>2010-08-02</td>\n",
       "      <td>56</td>\n",
       "      <td>3</td>\n",
       "      <td>0</td>\n",
       "      <td>1</td>\n",
       "      <td>0</td>\n",
       "      <td>...</td>\n",
       "      <td>0</td>\n",
       "      <td>0</td>\n",
       "      <td>0</td>\n",
       "      <td>0</td>\n",
       "      <td>0</td>\n",
       "      <td>0</td>\n",
       "      <td>0</td>\n",
       "      <td>0</td>\n",
       "      <td>0</td>\n",
       "      <td>0</td>\n",
       "    </tr>\n",
       "    <tr>\n",
       "      <th>3</th>\n",
       "      <td>bjjt8pjhuk</td>\n",
       "      <td>other</td>\n",
       "      <td>2011-12-05</td>\n",
       "      <td>2009-10-31 06:01:29</td>\n",
       "      <td>2012-09-08</td>\n",
       "      <td>42</td>\n",
       "      <td>0</td>\n",
       "      <td>0</td>\n",
       "      <td>1</td>\n",
       "      <td>0</td>\n",
       "      <td>...</td>\n",
       "      <td>0</td>\n",
       "      <td>0</td>\n",
       "      <td>0</td>\n",
       "      <td>0</td>\n",
       "      <td>0</td>\n",
       "      <td>0</td>\n",
       "      <td>0</td>\n",
       "      <td>0</td>\n",
       "      <td>0</td>\n",
       "      <td>0</td>\n",
       "    </tr>\n",
       "    <tr>\n",
       "      <th>4</th>\n",
       "      <td>87mebub9p4</td>\n",
       "      <td>US</td>\n",
       "      <td>2010-09-14</td>\n",
       "      <td>2009-12-08 06:11:05</td>\n",
       "      <td>2010-02-18</td>\n",
       "      <td>41</td>\n",
       "      <td>0</td>\n",
       "      <td>1</td>\n",
       "      <td>0</td>\n",
       "      <td>0</td>\n",
       "      <td>...</td>\n",
       "      <td>0</td>\n",
       "      <td>0</td>\n",
       "      <td>0</td>\n",
       "      <td>0</td>\n",
       "      <td>0</td>\n",
       "      <td>0</td>\n",
       "      <td>0</td>\n",
       "      <td>0</td>\n",
       "      <td>0</td>\n",
       "      <td>0</td>\n",
       "    </tr>\n",
       "    <tr>\n",
       "      <th>6</th>\n",
       "      <td>lsw9q7uk0j</td>\n",
       "      <td>US</td>\n",
       "      <td>2010-01-02</td>\n",
       "      <td>2010-01-02 01:25:58</td>\n",
       "      <td>2010-01-05</td>\n",
       "      <td>46</td>\n",
       "      <td>0</td>\n",
       "      <td>0</td>\n",
       "      <td>1</td>\n",
       "      <td>0</td>\n",
       "      <td>...</td>\n",
       "      <td>1</td>\n",
       "      <td>0</td>\n",
       "      <td>0</td>\n",
       "      <td>0</td>\n",
       "      <td>0</td>\n",
       "      <td>0</td>\n",
       "      <td>0</td>\n",
       "      <td>0</td>\n",
       "      <td>0</td>\n",
       "      <td>0</td>\n",
       "    </tr>\n",
       "    <tr>\n",
       "      <th>7</th>\n",
       "      <td>0d01nltbrs</td>\n",
       "      <td>US</td>\n",
       "      <td>2010-01-03</td>\n",
       "      <td>2010-01-03 19:19:05</td>\n",
       "      <td>2010-01-13</td>\n",
       "      <td>47</td>\n",
       "      <td>0</td>\n",
       "      <td>0</td>\n",
       "      <td>1</td>\n",
       "      <td>0</td>\n",
       "      <td>...</td>\n",
       "      <td>1</td>\n",
       "      <td>0</td>\n",
       "      <td>0</td>\n",
       "      <td>0</td>\n",
       "      <td>0</td>\n",
       "      <td>0</td>\n",
       "      <td>0</td>\n",
       "      <td>0</td>\n",
       "      <td>0</td>\n",
       "      <td>0</td>\n",
       "    </tr>\n",
       "  </tbody>\n",
       "</table>\n",
       "<p>5 rows × 117 columns</p>\n",
       "</div>"
      ],
      "text/plain": [
       "           id country_destination date_account_created timestamp_first_active  \\\n",
       "2  4ft3gnwmtx                  US           2010-09-28    2009-06-09 23:12:47   \n",
       "3  bjjt8pjhuk               other           2011-12-05    2009-10-31 06:01:29   \n",
       "4  87mebub9p4                  US           2010-09-14    2009-12-08 06:11:05   \n",
       "6  lsw9q7uk0j                  US           2010-01-02    2010-01-02 01:25:58   \n",
       "7  0d01nltbrs                  US           2010-01-03    2010-01-03 19:19:05   \n",
       "\n",
       "  date_first_booking  age  signup_flow  gender_-unknown-  gender_FEMALE  \\\n",
       "2         2010-08-02   56            3                 0              1   \n",
       "3         2012-09-08   42            0                 0              1   \n",
       "4         2010-02-18   41            0                 1              0   \n",
       "6         2010-01-05   46            0                 0              1   \n",
       "7         2010-01-13   47            0                 0              1   \n",
       "\n",
       "   gender_MALE  ...  first_browser_Safari  first_browser_SeaMonkey  \\\n",
       "2            0  ...                     0                        0   \n",
       "3            0  ...                     0                        0   \n",
       "4            0  ...                     0                        0   \n",
       "6            0  ...                     1                        0   \n",
       "7            0  ...                     1                        0   \n",
       "\n",
       "   first_browser_Silk  first_browser_SiteKiosk  first_browser_SlimBrowser  \\\n",
       "2                   0                        0                          0   \n",
       "3                   0                        0                          0   \n",
       "4                   0                        0                          0   \n",
       "6                   0                        0                          0   \n",
       "7                   0                        0                          0   \n",
       "\n",
       "   first_browser_Sogou Explorer  first_browser_Stainless  \\\n",
       "2                             0                        0   \n",
       "3                             0                        0   \n",
       "4                             0                        0   \n",
       "6                             0                        0   \n",
       "7                             0                        0   \n",
       "\n",
       "   first_browser_TenFourFox  first_browser_TheWorld Browser  \\\n",
       "2                         0                               0   \n",
       "3                         0                               0   \n",
       "4                         0                               0   \n",
       "6                         0                               0   \n",
       "7                         0                               0   \n",
       "\n",
       "   first_browser_Yandex.Browser  \n",
       "2                             0  \n",
       "3                             0  \n",
       "4                             0  \n",
       "6                             0  \n",
       "7                             0  \n",
       "\n",
       "[5 rows x 117 columns]"
      ]
     },
     "execution_count": 15,
     "metadata": {},
     "output_type": "execute_result"
    }
   ],
   "source": [
    "df3 = pd.concat([df3[['id', 'country_destination']], df3_dummy], axis=1) \n",
    "df3.head()"
   ]
  },
  {
   "cell_type": "markdown",
   "metadata": {},
   "source": [
    "# 4.0. Seleção Features"
   ]
  },
  {
   "cell_type": "code",
   "execution_count": 16,
   "metadata": {},
   "outputs": [],
   "source": [
    "# Remove datas originais pois é inútil para o modelo.\n",
    "cols_drop = ['date_account_created', 'timestamp_first_active', 'date_first_booking']\n",
    "\n",
    "df4 = df3.drop(cols_drop, axis=1)\n",
    "\n",
    "X = df4.drop('country_destination', axis=1)\n",
    "y = df4['country_destination'].copy()\n",
    "\n",
    "X_train, X_test, y_train, y_test = ms.train_test_split(X, y, test_size=0.2, random_state=42)"
   ]
  },
  {
   "cell_type": "markdown",
   "metadata": {},
   "source": [
    "# 5.0. Machine Learning"
   ]
  },
  {
   "cell_type": "code",
   "execution_count": 17,
   "metadata": {},
   "outputs": [],
   "source": [
    "x_train = X_train.drop('id', axis=1)\n",
    "x_test = X_test.drop('id', axis=1)"
   ]
  },
  {
   "cell_type": "code",
   "execution_count": null,
   "metadata": {},
   "outputs": [],
   "source": []
  },
  {
   "cell_type": "markdown",
   "metadata": {},
   "source": [
    "## 5.1. Baseline "
   ]
  },
  {
   "cell_type": "code",
   "execution_count": 18,
   "metadata": {},
   "outputs": [
    {
     "data": {
      "text/plain": [
       "13635"
      ]
     },
     "execution_count": 18,
     "metadata": {},
     "output_type": "execute_result"
    }
   ],
   "source": [
    "country_destination_list = df1['country_destination'].drop_duplicates().sort_values().tolist()\n",
    "k_num = y_test.shape[0]\n",
    "country_destination_weights = df1['country_destination'].value_counts(normalize=True).sort_index().tolist()\n",
    "\n",
    "yhat_random = random.choices(population=country_destination_list,  \n",
    "                             weights=country_destination_weights,\n",
    "                             k=k_num)\n",
    "len(yhat_random)"
   ]
  },
  {
   "cell_type": "markdown",
   "metadata": {},
   "source": [
    "### 5.1.1 Baseline Performance"
   ]
  },
  {
   "cell_type": "code",
   "execution_count": 19,
   "metadata": {},
   "outputs": [
    {
     "name": "stdout",
     "output_type": "stream",
     "text": [
      "Accuracy: 0.5213054638797213\n",
      "Balanced Accuracy:0.08869217747238992\n",
      "Kappa Score: -0.0034869155759986725\n",
      "              precision    recall  f1-score   support\n",
      "\n",
      "          AU       0.00      0.00      0.00        90\n",
      "          CA       0.02      0.02      0.02       210\n",
      "          DE       0.02      0.02      0.02       176\n",
      "          ES       0.02      0.02      0.02       344\n",
      "          FR       0.05      0.05      0.05       742\n",
      "          GB       0.03      0.03      0.03       356\n",
      "          IT       0.02      0.02      0.02       399\n",
      "          NL       0.00      0.00      0.00       107\n",
      "          PT       0.00      0.00      0.00        26\n",
      "          US       0.71      0.71      0.71      9704\n",
      "       other       0.11      0.11      0.11      1481\n",
      "\n",
      "    accuracy                           0.52     13635\n",
      "   macro avg       0.09      0.09      0.09     13635\n",
      "weighted avg       0.52      0.52      0.52     13635\n",
      "\n"
     ]
    },
    {
     "data": {
      "text/plain": [
       "<AxesSubplot: title={'center': 'Confusion Matrix'}, xlabel='Predicted label', ylabel='True label'>"
      ]
     },
     "execution_count": 19,
     "metadata": {},
     "output_type": "execute_result"
    },
    {
     "data": {
      "image/png": "[encoded data removed]",
      "text/plain": [
       "<Figure size 1200x1200 with 2 Axes>"
      ]
     },
     "metadata": {},
     "output_type": "display_data"
    }
   ],
   "source": [
    "# Accuracy\n",
    "acc_random = m.accuracy_score(y_test, yhat_random)\n",
    "print('Accuracy: {}'.format(acc_random))\n",
    "\n",
    "# Balanced Accuray\n",
    "balanced_acc_random = m.balanced_accuracy_score(y_test, yhat_random)\n",
    "print('Balanced Accuracy:{}'.format(balanced_acc_random))\n",
    "\n",
    "# Kappa Metrics\n",
    "kappa_random = m.cohen_kappa_score(y_test, yhat_random)\n",
    "print('Kappa Score: {}'.format(kappa_random))\n",
    "\n",
    "# Classification report\n",
    "print(m.classification_report(y_test, yhat_random))\n",
    "\n",
    "# Confusion Matrix\n",
    "mt.plot_confusion_matrix(y_test, yhat_random, normalize=False, figsize=(12,12))"
   ]
  },
  {
   "cell_type": "markdown",
   "metadata": {},
   "source": [
    "## 5.1. Neural Network MLP"
   ]
  },
  {
   "cell_type": "code",
   "execution_count": 22,
   "metadata": {},
   "outputs": [
    {
     "name": "stdout",
     "output_type": "stream",
     "text": [
      "Epoch 1/100\n",
      "1705/1705 [==============================] - 3s 2ms/step - loss: 1.3925 - accuracy: 0.6988\n",
      "Epoch 2/100\n",
      "1705/1705 [==============================] - 3s 2ms/step - loss: 1.3046 - accuracy: 0.7051\n",
      "Epoch 3/100\n",
      "1705/1705 [==============================] - 3s 2ms/step - loss: 1.2772 - accuracy: 0.7065\n",
      "Epoch 4/100\n",
      "1705/1705 [==============================] - 3s 2ms/step - loss: 1.2461 - accuracy: 0.7058\n",
      "Epoch 5/100\n",
      "1705/1705 [==============================] - 3s 1ms/step - loss: 1.2114 - accuracy: 0.7069\n",
      "Epoch 6/100\n",
      "1705/1705 [==============================] - 3s 2ms/step - loss: 1.1945 - accuracy: 0.7071\n",
      "Epoch 7/100\n",
      "1705/1705 [==============================] - 3s 2ms/step - loss: 1.1831 - accuracy: 0.7071\n",
      "Epoch 8/100\n",
      "1705/1705 [==============================] - 3s 2ms/step - loss: 1.1675 - accuracy: 0.7072\n",
      "Epoch 9/100\n",
      "1705/1705 [==============================] - 2s 1ms/step - loss: 1.1544 - accuracy: 0.7072\n",
      "Epoch 10/100\n",
      "1705/1705 [==============================] - 3s 1ms/step - loss: 1.1520 - accuracy: 0.7074\n",
      "Epoch 11/100\n",
      "1705/1705 [==============================] - 2s 1ms/step - loss: 1.1442 - accuracy: 0.7074\n",
      "Epoch 12/100\n",
      "1705/1705 [==============================] - 3s 1ms/step - loss: 1.1406 - accuracy: 0.7076\n",
      "Epoch 13/100\n",
      "1705/1705 [==============================] - 3s 2ms/step - loss: 1.1374 - accuracy: 0.7080\n",
      "Epoch 14/100\n",
      "1705/1705 [==============================] - 3s 2ms/step - loss: 1.1368 - accuracy: 0.7080\n",
      "Epoch 15/100\n",
      "1705/1705 [==============================] - 3s 2ms/step - loss: 1.1343 - accuracy: 0.7081\n",
      "Epoch 16/100\n",
      "1705/1705 [==============================] - 3s 2ms/step - loss: 1.1339 - accuracy: 0.7082\n",
      "Epoch 17/100\n",
      "1705/1705 [==============================] - 3s 1ms/step - loss: 1.1330 - accuracy: 0.7082\n",
      "Epoch 18/100\n",
      "1705/1705 [==============================] - 3s 1ms/step - loss: 1.1321 - accuracy: 0.7082\n",
      "Epoch 19/100\n",
      "1705/1705 [==============================] - 3s 1ms/step - loss: 1.1316 - accuracy: 0.7082\n",
      "Epoch 20/100\n",
      "1705/1705 [==============================] - 3s 2ms/step - loss: 1.1295 - accuracy: 0.7083\n",
      "Epoch 21/100\n",
      "1705/1705 [==============================] - 3s 2ms/step - loss: 1.1287 - accuracy: 0.7083\n",
      "Epoch 22/100\n",
      "1705/1705 [==============================] - 3s 2ms/step - loss: 1.1282 - accuracy: 0.7083\n",
      "Epoch 23/100\n",
      "1705/1705 [==============================] - 3s 1ms/step - loss: 1.1275 - accuracy: 0.7082\n",
      "Epoch 24/100\n",
      "1705/1705 [==============================] - 3s 2ms/step - loss: 1.1292 - accuracy: 0.7083\n",
      "Epoch 25/100\n",
      "1705/1705 [==============================] - 3s 2ms/step - loss: 1.1263 - accuracy: 0.7084\n",
      "Epoch 26/100\n",
      "1705/1705 [==============================] - 3s 2ms/step - loss: 1.1257 - accuracy: 0.7085\n",
      "Epoch 27/100\n",
      "1705/1705 [==============================] - 3s 2ms/step - loss: 1.1243 - accuracy: 0.7085\n",
      "Epoch 28/100\n",
      "1705/1705 [==============================] - 3s 2ms/step - loss: 1.1240 - accuracy: 0.7087\n",
      "Epoch 29/100\n",
      "1705/1705 [==============================] - 3s 2ms/step - loss: 1.1231 - accuracy: 0.7084\n",
      "Epoch 30/100\n",
      "1705/1705 [==============================] - 3s 1ms/step - loss: 1.1223 - accuracy: 0.7086\n",
      "Epoch 31/100\n",
      "1705/1705 [==============================] - 3s 2ms/step - loss: 1.1218 - accuracy: 0.7086\n",
      "Epoch 32/100\n",
      "1705/1705 [==============================] - 3s 2ms/step - loss: 1.1212 - accuracy: 0.7086\n",
      "Epoch 33/100\n",
      "1705/1705 [==============================] - 3s 2ms/step - loss: 1.1206 - accuracy: 0.7086\n",
      "Epoch 34/100\n",
      "1705/1705 [==============================] - 3s 2ms/step - loss: 1.1195 - accuracy: 0.7088\n",
      "Epoch 35/100\n",
      "1705/1705 [==============================] - 2s 1ms/step - loss: 1.1195 - accuracy: 0.7088\n",
      "Epoch 36/100\n",
      "1705/1705 [==============================] - 3s 1ms/step - loss: 1.1190 - accuracy: 0.7088\n",
      "Epoch 37/100\n",
      "1705/1705 [==============================] - 3s 1ms/step - loss: 1.1174 - accuracy: 0.7089\n",
      "Epoch 38/100\n",
      "1705/1705 [==============================] - 3s 2ms/step - loss: 1.1177 - accuracy: 0.7089\n",
      "Epoch 39/100\n",
      "1705/1705 [==============================] - 3s 2ms/step - loss: 1.1164 - accuracy: 0.7091\n",
      "Epoch 40/100\n",
      "1705/1705 [==============================] - 3s 1ms/step - loss: 1.1163 - accuracy: 0.7090\n",
      "Epoch 41/100\n",
      "1705/1705 [==============================] - 2s 1ms/step - loss: 1.1156 - accuracy: 0.7090\n",
      "Epoch 42/100\n",
      "1705/1705 [==============================] - 3s 1ms/step - loss: 1.1152 - accuracy: 0.7088\n",
      "Epoch 43/100\n",
      "1705/1705 [==============================] - 3s 2ms/step - loss: 1.1144 - accuracy: 0.7092\n",
      "Epoch 44/100\n",
      "1705/1705 [==============================] - 3s 2ms/step - loss: 1.1143 - accuracy: 0.7090\n",
      "Epoch 45/100\n",
      "1705/1705 [==============================] - 3s 2ms/step - loss: 1.1150 - accuracy: 0.7089\n",
      "Epoch 46/100\n",
      "1705/1705 [==============================] - 3s 1ms/step - loss: 1.1143 - accuracy: 0.7092\n",
      "Epoch 47/100\n",
      "1705/1705 [==============================] - 2s 1ms/step - loss: 1.1145 - accuracy: 0.7094\n",
      "Epoch 48/100\n",
      "1705/1705 [==============================] - 3s 2ms/step - loss: 1.1144 - accuracy: 0.7094\n",
      "Epoch 49/100\n",
      "1705/1705 [==============================] - 3s 2ms/step - loss: 1.1130 - accuracy: 0.7094\n",
      "Epoch 50/100\n",
      "1705/1705 [==============================] - 3s 1ms/step - loss: 1.1118 - accuracy: 0.7093\n",
      "Epoch 51/100\n",
      "1705/1705 [==============================] - 3s 2ms/step - loss: 1.1116 - accuracy: 0.7093\n",
      "Epoch 52/100\n",
      "1705/1705 [==============================] - 3s 1ms/step - loss: 1.1113 - accuracy: 0.7092\n",
      "Epoch 53/100\n",
      "1705/1705 [==============================] - 2s 1ms/step - loss: 1.1109 - accuracy: 0.7093\n",
      "Epoch 54/100\n",
      "1705/1705 [==============================] - 2s 1ms/step - loss: 1.1106 - accuracy: 0.7095\n",
      "Epoch 55/100\n",
      "1705/1705 [==============================] - 2s 1ms/step - loss: 1.1103 - accuracy: 0.7095\n",
      "Epoch 56/100\n",
      "1705/1705 [==============================] - 2s 1ms/step - loss: 1.1099 - accuracy: 0.7095\n",
      "Epoch 57/100\n",
      "1705/1705 [==============================] - 3s 2ms/step - loss: 1.1098 - accuracy: 0.7098\n",
      "Epoch 58/100\n",
      "1705/1705 [==============================] - 2s 1ms/step - loss: 1.1093 - accuracy: 0.7097\n",
      "Epoch 59/100\n",
      "1705/1705 [==============================] - 2s 1ms/step - loss: 1.1084 - accuracy: 0.7098\n",
      "Epoch 60/100\n",
      "1705/1705 [==============================] - 2s 1ms/step - loss: 1.1077 - accuracy: 0.7098\n",
      "Epoch 61/100\n",
      "1705/1705 [==============================] - 2s 1ms/step - loss: 1.1079 - accuracy: 0.7099\n",
      "Epoch 62/100\n",
      "1705/1705 [==============================] - 2s 1ms/step - loss: 1.1073 - accuracy: 0.7099\n",
      "Epoch 63/100\n",
      "1705/1705 [==============================] - 3s 2ms/step - loss: 1.1071 - accuracy: 0.7099\n",
      "Epoch 64/100\n",
      "1705/1705 [==============================] - 3s 2ms/step - loss: 1.1064 - accuracy: 0.7101\n",
      "Epoch 65/100\n",
      "1705/1705 [==============================] - 3s 1ms/step - loss: 1.1065 - accuracy: 0.7100\n",
      "Epoch 66/100\n",
      "1705/1705 [==============================] - 3s 1ms/step - loss: 1.1060 - accuracy: 0.7099\n",
      "Epoch 67/100\n",
      "1705/1705 [==============================] - 3s 2ms/step - loss: 1.1059 - accuracy: 0.7102\n",
      "Epoch 68/100\n",
      "1705/1705 [==============================] - 3s 2ms/step - loss: 1.1064 - accuracy: 0.7100\n",
      "Epoch 69/100\n",
      "1705/1705 [==============================] - 3s 1ms/step - loss: 1.1050 - accuracy: 0.7102\n",
      "Epoch 70/100\n",
      "1705/1705 [==============================] - 3s 2ms/step - loss: 1.1044 - accuracy: 0.7103\n",
      "Epoch 71/100\n",
      "1705/1705 [==============================] - 3s 1ms/step - loss: 1.1044 - accuracy: 0.7102\n",
      "Epoch 72/100\n",
      "1705/1705 [==============================] - 3s 2ms/step - loss: 1.1046 - accuracy: 0.7103\n",
      "Epoch 73/100\n",
      "1705/1705 [==============================] - 2s 1ms/step - loss: 1.1035 - accuracy: 0.7102\n",
      "Epoch 74/100\n",
      "1705/1705 [==============================] - 3s 1ms/step - loss: 1.1043 - accuracy: 0.7103\n",
      "Epoch 75/100\n",
      "1705/1705 [==============================] - 3s 2ms/step - loss: 1.1034 - accuracy: 0.7103\n",
      "Epoch 76/100\n",
      "1705/1705 [==============================] - 3s 2ms/step - loss: 1.1035 - accuracy: 0.7103\n",
      "Epoch 77/100\n",
      "1705/1705 [==============================] - 3s 1ms/step - loss: 1.1023 - accuracy: 0.7105\n",
      "Epoch 78/100\n",
      "1705/1705 [==============================] - 2s 1ms/step - loss: 1.1029 - accuracy: 0.7102\n",
      "Epoch 79/100\n",
      "1705/1705 [==============================] - 2s 1ms/step - loss: 1.1029 - accuracy: 0.7101\n",
      "Epoch 80/100\n",
      "1705/1705 [==============================] - 2s 1ms/step - loss: 1.1025 - accuracy: 0.7102\n",
      "Epoch 81/100\n",
      "1705/1705 [==============================] - 3s 1ms/step - loss: 1.1022 - accuracy: 0.7101\n",
      "Epoch 82/100\n",
      "1705/1705 [==============================] - 3s 2ms/step - loss: 1.1019 - accuracy: 0.7105\n",
      "Epoch 83/100\n",
      "1705/1705 [==============================] - 2s 1ms/step - loss: 1.1015 - accuracy: 0.7104\n",
      "Epoch 84/100\n",
      "1705/1705 [==============================] - 2s 1ms/step - loss: 1.1010 - accuracy: 0.7104\n",
      "Epoch 85/100\n",
      "1705/1705 [==============================] - 2s 1ms/step - loss: 1.1013 - accuracy: 0.7109\n",
      "Epoch 86/100\n",
      "1705/1705 [==============================] - 2s 1ms/step - loss: 1.1012 - accuracy: 0.7107\n",
      "Epoch 87/100\n",
      "1705/1705 [==============================] - 2s 1ms/step - loss: 1.1005 - accuracy: 0.7106\n",
      "Epoch 88/100\n",
      "1705/1705 [==============================] - 2s 1ms/step - loss: 1.0999 - accuracy: 0.7105\n",
      "Epoch 89/100\n",
      "1705/1705 [==============================] - 3s 2ms/step - loss: 1.1005 - accuracy: 0.7108\n",
      "Epoch 90/100\n",
      "1705/1705 [==============================] - 2s 1ms/step - loss: 1.0999 - accuracy: 0.7106\n",
      "Epoch 91/100\n",
      "1705/1705 [==============================] - 2s 1ms/step - loss: 1.0995 - accuracy: 0.7108\n",
      "Epoch 92/100\n",
      "1705/1705 [==============================] - 2s 1ms/step - loss: 1.0996 - accuracy: 0.7106\n",
      "Epoch 93/100\n",
      "1705/1705 [==============================] - 2s 1ms/step - loss: 1.0991 - accuracy: 0.7107\n",
      "Epoch 94/100\n",
      "1705/1705 [==============================] - 3s 1ms/step - loss: 1.0996 - accuracy: 0.7108\n",
      "Epoch 95/100\n",
      "1705/1705 [==============================] - 3s 2ms/step - loss: 1.0989 - accuracy: 0.7107\n",
      "Epoch 96/100\n",
      "1705/1705 [==============================] - 3s 1ms/step - loss: 1.0990 - accuracy: 0.7107\n",
      "Epoch 97/100\n",
      "1705/1705 [==============================] - 3s 2ms/step - loss: 1.0984 - accuracy: 0.7111\n",
      "Epoch 98/100\n",
      "1705/1705 [==============================] - 3s 2ms/step - loss: 1.0989 - accuracy: 0.7108\n",
      "Epoch 99/100\n",
      "1705/1705 [==============================] - 3s 2ms/step - loss: 1.0986 - accuracy: 0.7109\n",
      "Epoch 100/100\n",
      "1705/1705 [==============================] - 3s 2ms/step - loss: 1.0978 - accuracy: 0.7108\n"
     ]
    },
    {
     "data": {
      "text/plain": [
       "<keras.callbacks.History at 0x1e1b610d880>"
      ]
     },
     "execution_count": 22,
     "metadata": {},
     "output_type": "execute_result"
    }
   ],
   "source": [
    "ohe = pp.OneHotEncoder()\n",
    "y_train_nn = ohe.fit_transform(y_train.values.reshape(-1, 1)).toarray()\n",
    "\n",
    "# Definição Modelo\n",
    "model = ml.Sequential()\n",
    "model.add(l.Dense(128, input_dim=x_train.shape[1], activation='relu'))\n",
    "model.add(l.Dense(11, activation='softmax'))\n",
    "model.compile(loss='categorical_crossentropy', optimizer='adam', metrics=['accuracy'])\n",
    "\n",
    "#Treino\n",
    "model.fit(x_train, y_train_nn, epochs=100, verbose=True)"
   ]
  },
  {
   "cell_type": "markdown",
   "metadata": {},
   "source": [
    "### 5.1.1 NN Performance"
   ]
  },
  {
   "cell_type": "code",
   "execution_count": 23,
   "metadata": {},
   "outputs": [
    {
     "name": "stdout",
     "output_type": "stream",
     "text": [
      "427/427 [==============================] - 1s 1ms/step\n"
     ]
    }
   ],
   "source": [
    "# Predição\n",
    "pred_nn = model.predict(x_test)\n",
    "\n",
    "# Inverte predição\n",
    "yhat_nn = ohe.inverse_transform(pred_nn)\n",
    "\n",
    "y_test_nn = y_test.to_numpy()\n",
    "yhat_nn = yhat_nn.reshape(1, -1)[0]"
   ]
  },
  {
   "cell_type": "code",
   "execution_count": 24,
   "metadata": {},
   "outputs": [
    {
     "name": "stdout",
     "output_type": "stream",
     "text": [
      "Acurácia: 0.7092042537587092\n",
      "Balanced Accuracy:0.09227596166284968\n",
      "Kappa Score: 0.0030807942917633335\n"
     ]
    },
    {
     "name": "stderr",
     "output_type": "stream",
     "text": [
      "e:\\Programas\\instalacao\\anaconda3\\envs\\pa000\\lib\\site-packages\\sklearn\\metrics\\_classification.py:1334: UndefinedMetricWarning: Precision and F-score are ill-defined and being set to 0.0 in labels with no predicted samples. Use `zero_division` parameter to control this behavior.\n",
      "  _warn_prf(average, modifier, msg_start, len(result))\n",
      "e:\\Programas\\instalacao\\anaconda3\\envs\\pa000\\lib\\site-packages\\sklearn\\metrics\\_classification.py:1334: UndefinedMetricWarning: Precision and F-score are ill-defined and being set to 0.0 in labels with no predicted samples. Use `zero_division` parameter to control this behavior.\n",
      "  _warn_prf(average, modifier, msg_start, len(result))\n"
     ]
    },
    {
     "name": "stdout",
     "output_type": "stream",
     "text": [
      "              precision    recall  f1-score   support\n",
      "\n",
      "          AU       0.00      0.00      0.00        90\n",
      "          CA       0.00      0.00      0.00       210\n",
      "          DE       0.20      0.01      0.01       176\n",
      "          ES       0.10      0.00      0.01       344\n",
      "          FR       0.12      0.00      0.01       742\n",
      "          GB       0.00      0.00      0.00       356\n",
      "          IT       0.40      0.01      0.01       399\n",
      "          NL       0.00      0.00      0.00       107\n",
      "          PT       0.00      0.00      0.00        26\n",
      "          US       0.71      1.00      0.83      9704\n",
      "       other       0.19      0.00      0.01      1481\n",
      "\n",
      "    accuracy                           0.71     13635\n",
      "   macro avg       0.16      0.09      0.08     13635\n",
      "weighted avg       0.55      0.71      0.59     13635\n",
      "\n"
     ]
    },
    {
     "name": "stderr",
     "output_type": "stream",
     "text": [
      "e:\\Programas\\instalacao\\anaconda3\\envs\\pa000\\lib\\site-packages\\sklearn\\metrics\\_classification.py:1334: UndefinedMetricWarning: Precision and F-score are ill-defined and being set to 0.0 in labels with no predicted samples. Use `zero_division` parameter to control this behavior.\n",
      "  _warn_prf(average, modifier, msg_start, len(result))\n"
     ]
    },
    {
     "data": {
      "text/plain": [
       "<AxesSubplot: title={'center': 'Confusion Matrix'}, xlabel='Predicted label', ylabel='True label'>"
      ]
     },
     "execution_count": 24,
     "metadata": {},
     "output_type": "execute_result"
    },
    {
     "data": {
      "image/png": "[encoded data removed]",
      "text/plain": [
       "<Figure size 1200x1200 with 2 Axes>"
      ]
     },
     "metadata": {},
     "output_type": "display_data"
    }
   ],
   "source": [
    "# Acurácia\n",
    "acc_nn =m.accuracy_score(y_test_nn, yhat_nn)\n",
    "print(f'Acurácia: {acc_nn}')\n",
    "\n",
    "# Balanced Accuray\n",
    "balanced_acc_nn = m.balanced_accuracy_score(y_test_nn, yhat_nn)\n",
    "print('Balanced Accuracy:{}'.format(balanced_acc_nn))\n",
    "\n",
    "# Kappa\n",
    "kappa_nn = m.cohen_kappa_score(y_test_nn, yhat_nn)\n",
    "print('Kappa Score: {}'.format(kappa_nn))\n",
    "\n",
    "# Classification report\n",
    "print(m.classification_report(y_test_nn, yhat_nn))\n",
    "\n",
    "# Matriz de Confusão\n",
    "mt.plot_confusion_matrix(y_test_nn, yhat_nn, normalize=False, figsize=(12,12))"
   ]
  }
 ],
 "metadata": {
  "kernelspec": {
   "display_name": "Python 3.8.13 ('pa000')",
   "language": "python",
   "name": "python3"
  },
  "language_info": {
   "codemirror_mode": {
    "name": "ipython",
    "version": 3
   },
   "file_extension": ".py",
   "mimetype": "text/x-python",
   "name": "python",
   "nbconvert_exporter": "python",
   "pygments_lexer": "ipython3",
   "version": "3.8.13"
  },
  "orig_nbformat": 4,
  "vscode": {
   "interpreter": {
    "hash": "412216976153f08accfd66da1eb798228bfe83527efcfc9e66487192375cf831"
   }
  }
 },
 "nbformat": 4,
 "nbformat_minor": 2
}
