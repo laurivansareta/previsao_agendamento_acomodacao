{
 "cells": [
  {
   "attachments": {},
   "cell_type": "markdown",
   "metadata": {},
   "source": [
    "# Principal Component Analysis - PCA\n",
    "\n",
    "Notebook de experimentação e estudo sobre PCA"
   ]
  },
  {
   "attachments": {},
   "cell_type": "markdown",
   "metadata": {},
   "source": [
    "## 0.0. Imports"
   ]
  },
  {
   "cell_type": "code",
   "execution_count": 22,
   "metadata": {},
   "outputs": [],
   "source": [
    "import pandas as pd\n",
    "import numpy as np\n",
    "\n",
    "from sklearn import model_selection as ms\n",
    "from sklearn import preprocessing as pp\n",
    "from sklearn import decomposition as d\n",
    "from keras.models import Sequential\n",
    "from keras.layers import Dense\n",
    "from keras.callbacks import EarlyStopping\n",
    "from matplotlib import pyplot as plt"
   ]
  },
  {
   "attachments": {},
   "cell_type": "markdown",
   "metadata": {},
   "source": [
    "## 0.1. Carregando dados"
   ]
  },
  {
   "cell_type": "code",
   "execution_count": 20,
   "metadata": {},
   "outputs": [],
   "source": [
    "df_raw = pd.read_csv('../../dados/vehicle.csv')\n",
    "\n",
    "# Seleciona apenas Carros e ônibus\n",
    "df1 = df_raw[df_raw['class'].isin(['car', 'bus'])]"
   ]
  },
  {
   "cell_type": "code",
   "execution_count": 21,
   "metadata": {},
   "outputs": [],
   "source": [
    "# Valida Nulos\n",
    "df1.isna().sum()\n",
    "\n",
    "df1 = df1.dropna()"
   ]
  },
  {
   "cell_type": "code",
   "execution_count": 24,
   "metadata": {},
   "outputs": [],
   "source": [
    "x = df1.drop('class', axis=1)\n",
    "y = df1['class']\n",
    "\n",
    "x_train, x_test, y_train, y_test = ms.train_test_split(x, y, test_size=0.1, random_state=42)"
   ]
  },
  {
   "attachments": {},
   "cell_type": "markdown",
   "metadata": {},
   "source": [
    "# 1.0. Redes Neurais sem PCA"
   ]
  },
  {
   "cell_type": "code",
   "execution_count": 27,
   "metadata": {},
   "outputs": [],
   "source": [
    "# HOLD OUT\n",
    "train_acc_list = []\n",
    "val_acc_list = []\n",
    "\n",
    "for i in range(0, 5):\n",
    "    # split training and validation\n",
    "    x_train, x_val, y_train, y_val = ms.train_test_split(x, y, test_size=0.2)\n",
    "\n",
    "    # y for NN\n",
    "    ohe = pp.OneHotEncoder()\n",
    "    y_train = ohe.fit_transform(y_train.values.reshape(-1, 1)).toarray()\n",
    "    y_val = ohe.transform(y_val.values.reshape(-1, 1)).toarray()\n",
    "\n",
    "\n",
    "    # MLP: Neural Network \n",
    "    ## model definition\n",
    "    model = Sequential()\n",
    "    model.add(Dense(2, input_dim=x_train.shape[1], activation='relu')) # 2 neurons on Hidden Layer + Input Layer\n",
    "    model.add(Dense(2, activation='softmax'))\n",
    "\n",
    "    ## model compile\n",
    "    model.compile(loss='categorical_crossentropy', optimizer='adam', metrics=['accuracy'])\n",
    "\n",
    "    ### model fit (training)\n",
    "    es = EarlyStopping(monitor='val_loss', patience=10)\n",
    "    history = model.fit(x_train, y_train, validation_data=(x_val, y_val), epochs=100, callbacks=[es], verbose=0)\n",
    "\n",
    "    ## model evaluate\n",
    "    _, train_acc = model.evaluate(x_train, y_train, verbose=0)\n",
    "    _, val_acc = model.evaluate(x_val, y_val, verbose=0)\n",
    "\n",
    "    #print('Train ACC:{} - Val ACC:{}'.format(train_acc, val_acc))\n",
    "    train_acc_list.append(train_acc)\n",
    "    val_acc_list.append(val_acc)"
   ]
  },
  {
   "cell_type": "code",
   "execution_count": 28,
   "metadata": {},
   "outputs": [
    {
     "name": "stdout",
     "output_type": "stream",
     "text": [
      "Train ACC AVG: 0.7076923012733459 +/- 0.05322925424414485\n",
      "Val ACC AVG: 0.7161290287971497 +/- 0.01867071468105847\n"
     ]
    }
   ],
   "source": [
    "print('Train ACC AVG: {} +/- {}'.format(np.mean(train_acc_list), np.std(train_acc_list)))\n",
    "print('Val ACC AVG: {} +/- {}'.format(np.mean(val_acc_list), np.std(val_acc_list))) "
   ]
  },
  {
   "attachments": {},
   "cell_type": "markdown",
   "metadata": {},
   "source": [
    "# 2.0. Redes Neurais com PCA"
   ]
  },
  {
   "cell_type": "markdown",
   "metadata": {},
   "source": []
  }
 ],
 "metadata": {
  "kernelspec": {
   "display_name": "pa000",
   "language": "python",
   "name": "python3"
  },
  "language_info": {
   "codemirror_mode": {
    "name": "ipython",
    "version": 3
   },
   "file_extension": ".py",
   "mimetype": "text/x-python",
   "name": "python",
   "nbconvert_exporter": "python",
   "pygments_lexer": "ipython3",
   "version": "3.8.13"
  },
  "orig_nbformat": 4,
  "vscode": {
   "interpreter": {
    "hash": "412216976153f08accfd66da1eb798228bfe83527efcfc9e66487192375cf831"
   }
  }
 },
 "nbformat": 4,
 "nbformat_minor": 2
}
